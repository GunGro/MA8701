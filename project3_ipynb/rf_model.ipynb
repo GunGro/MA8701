{
 "cells": [
  {
   "cell_type": "code",
   "execution_count": 1,
   "id": "imported-database",
   "metadata": {},
   "outputs": [
    {
     "name": "stderr",
     "output_type": "stream",
     "text": [
      "── \u001b[1mAttaching packages\u001b[22m ─────────────────────────────────────────────────────────────────────────────────────────────────── tidyverse 1.3.1 ──\n",
      "\n",
      "\u001b[32m✔\u001b[39m \u001b[34mggplot2\u001b[39m 3.3.3     \u001b[32m✔\u001b[39m \u001b[34mpurrr  \u001b[39m 0.3.4\n",
      "\u001b[32m✔\u001b[39m \u001b[34mtibble \u001b[39m 3.1.1     \u001b[32m✔\u001b[39m \u001b[34mdplyr  \u001b[39m 1.0.5\n",
      "\u001b[32m✔\u001b[39m \u001b[34mtidyr  \u001b[39m 1.1.3     \u001b[32m✔\u001b[39m \u001b[34mstringr\u001b[39m 1.4.0\n",
      "\u001b[32m✔\u001b[39m \u001b[34mreadr  \u001b[39m 1.4.0     \u001b[32m✔\u001b[39m \u001b[34mforcats\u001b[39m 0.5.1\n",
      "\n",
      "── \u001b[1mConflicts\u001b[22m ────────────────────────────────────────────────────────────────────────────────────────────────────── tidyverse_conflicts() ──\n",
      "\u001b[31m✖\u001b[39m \u001b[34mdplyr\u001b[39m::\u001b[32mfilter()\u001b[39m masks \u001b[34mstats\u001b[39m::filter()\n",
      "\u001b[31m✖\u001b[39m \u001b[34mdplyr\u001b[39m::\u001b[32mlag()\u001b[39m    masks \u001b[34mstats\u001b[39m::lag()\n",
      "\n",
      "── \u001b[1mAttaching packages\u001b[22m ────────────────────────────────────────────────────────────────────────────────────────────────── tidymodels 0.1.3 ──\n",
      "\n",
      "\u001b[32m✔\u001b[39m \u001b[34mbroom       \u001b[39m 0.7.6      \u001b[32m✔\u001b[39m \u001b[34mrsample     \u001b[39m 0.0.9 \n",
      "\u001b[32m✔\u001b[39m \u001b[34mdials       \u001b[39m 0.0.9      \u001b[32m✔\u001b[39m \u001b[34mtune        \u001b[39m 0.1.5 \n",
      "\u001b[32m✔\u001b[39m \u001b[34minfer       \u001b[39m 0.5.4      \u001b[32m✔\u001b[39m \u001b[34mworkflows   \u001b[39m 0.2.2 \n",
      "\u001b[32m✔\u001b[39m \u001b[34mmodeldata   \u001b[39m 0.1.0      \u001b[32m✔\u001b[39m \u001b[34mworkflowsets\u001b[39m 0.0.2 \n",
      "\u001b[32m✔\u001b[39m \u001b[34mparsnip     \u001b[39m 0.1.5      \u001b[32m✔\u001b[39m \u001b[34myardstick   \u001b[39m 0.0.8 \n",
      "\u001b[32m✔\u001b[39m \u001b[34mrecipes     \u001b[39m 0.1.16     \n",
      "\n",
      "── \u001b[1mConflicts\u001b[22m ───────────────────────────────────────────────────────────────────────────────────────────────────── tidymodels_conflicts() ──\n",
      "\u001b[31m✖\u001b[39m \u001b[34mscales\u001b[39m::\u001b[32mdiscard()\u001b[39m masks \u001b[34mpurrr\u001b[39m::discard()\n",
      "\u001b[31m✖\u001b[39m \u001b[34mdplyr\u001b[39m::\u001b[32mfilter()\u001b[39m   masks \u001b[34mstats\u001b[39m::filter()\n",
      "\u001b[31m✖\u001b[39m \u001b[34mrecipes\u001b[39m::\u001b[32mfixed()\u001b[39m  masks \u001b[34mstringr\u001b[39m::fixed()\n",
      "\u001b[31m✖\u001b[39m \u001b[34mdplyr\u001b[39m::\u001b[32mlag()\u001b[39m      masks \u001b[34mstats\u001b[39m::lag()\n",
      "\u001b[31m✖\u001b[39m \u001b[34myardstick\u001b[39m::\u001b[32mspec()\u001b[39m masks \u001b[34mreadr\u001b[39m::spec()\n",
      "\u001b[31m✖\u001b[39m \u001b[34mrecipes\u001b[39m::\u001b[32mstep()\u001b[39m   masks \u001b[34mstats\u001b[39m::step()\n",
      "\u001b[34m•\u001b[39m Use \u001b[32mtidymodels_prefer()\u001b[39m to resolve common conflicts.\n",
      "\n",
      "\n",
      "Attaching package: ‘xgboost’\n",
      "\n",
      "\n",
      "The following object is masked from ‘package:dplyr’:\n",
      "\n",
      "    slice\n",
      "\n",
      "\n",
      "randomForest 4.6-14\n",
      "\n",
      "Type rfNews() to see new features/changes/bug fixes.\n",
      "\n",
      "\n",
      "Attaching package: ‘randomForest’\n",
      "\n",
      "\n",
      "The following object is masked from ‘package:dplyr’:\n",
      "\n",
      "    combine\n",
      "\n",
      "\n",
      "The following object is masked from ‘package:ggplot2’:\n",
      "\n",
      "    margin\n",
      "\n",
      "\n"
     ]
    }
   ],
   "source": [
    "################### #\n",
    "# Attach packages ----\n",
    "################### #\n",
    "library(tidyverse)\n",
    "library(tidymodels)\n",
    "library(xgboost)\n",
    "library(readxl)\n",
    "library(writexl)\n",
    "library(randomForest)"
   ]
  },
  {
   "cell_type": "markdown",
   "id": "greater-trunk",
   "metadata": {},
   "source": [
    "In the random forest method mtry is the number of covariates to choose from at each split. These are\n",
    "chosen at random at each internal node where a split is investigated. For regression we typically choose\n",
    "$m = p/3 = 17/3 ≈ 6$. This is the only tuning parameter in random forest. We can find the best mtry using\n",
    "OOB error and test error."
   ]
  },
  {
   "cell_type": "code",
   "execution_count": 2,
   "id": "harmful-auditor",
   "metadata": {},
   "outputs": [],
   "source": [
    "#################### #\n",
    "# Read data and mutate: ----\n",
    "# Include lat, long and municipalities in data set \n",
    "# - Keep only the 220 most common municipalities in the datase\n",
    "#################### #\n",
    "\n",
    "houses_raw <- read_excel(\"temp/houses.xlsx\")\n",
    "\n",
    "houses <- houses_raw %>%\n",
    "  select(id, sqm, expense, tot_price, lat, lng, kommune_name) %>%\n",
    "  mutate(kommune_factor = fct_lump_n(kommune_name, 220) %>% as.integer())"
   ]
  },
  {
   "cell_type": "code",
   "execution_count": 3,
   "id": "grave-surge",
   "metadata": {},
   "outputs": [],
   "source": [
    "################## #\n",
    "# Split data using the rsample package ----\n",
    "# Set seed in order to make the analysis reproducible \n",
    "################### #\n",
    "set.seed(42)\n",
    "\n",
    "split <- initial_split(houses, prop = 3/4)\n",
    "train_raw <- training(split)\n",
    "test_raw  <- testing(split)\n",
    "\n",
    "train <- train_raw %>%\n",
    "  select(-kommune_name, -id)\n",
    "\n",
    "test <- test_raw %>%\n",
    "  select(-kommune_name, -id)"
   ]
  },
  {
   "cell_type": "code",
   "execution_count": 4,
   "id": "fabulous-cambridge",
   "metadata": {},
   "outputs": [
    {
     "data": {
      "text/html": [
       "<table class=\"dataframe\">\n",
       "<caption>A tibble: 2 × 6</caption>\n",
       "<thead>\n",
       "\t<tr><th scope=col>sqm</th><th scope=col>expense</th><th scope=col>tot_price</th><th scope=col>lat</th><th scope=col>lng</th><th scope=col>kommune_factor</th></tr>\n",
       "\t<tr><th scope=col>&lt;dbl&gt;</th><th scope=col>&lt;dbl&gt;</th><th scope=col>&lt;dbl&gt;</th><th scope=col>&lt;dbl&gt;</th><th scope=col>&lt;dbl&gt;</th><th scope=col>&lt;int&gt;</th></tr>\n",
       "</thead>\n",
       "<tbody>\n",
       "\t<tr><td>152</td><td>0</td><td>9800000</td><td>59.95475</td><td>10.76841</td><td>141</td></tr>\n",
       "\t<tr><td>189</td><td>0</td><td>8400000</td><td>59.98290</td><td>11.01450</td><td>170</td></tr>\n",
       "</tbody>\n",
       "</table>\n"
      ],
      "text/latex": [
       "A tibble: 2 × 6\n",
       "\\begin{tabular}{llllll}\n",
       " sqm & expense & tot\\_price & lat & lng & kommune\\_factor\\\\\n",
       " <dbl> & <dbl> & <dbl> & <dbl> & <dbl> & <int>\\\\\n",
       "\\hline\n",
       "\t 152 & 0 & 9800000 & 59.95475 & 10.76841 & 141\\\\\n",
       "\t 189 & 0 & 8400000 & 59.98290 & 11.01450 & 170\\\\\n",
       "\\end{tabular}\n"
      ],
      "text/markdown": [
       "\n",
       "A tibble: 2 × 6\n",
       "\n",
       "| sqm &lt;dbl&gt; | expense &lt;dbl&gt; | tot_price &lt;dbl&gt; | lat &lt;dbl&gt; | lng &lt;dbl&gt; | kommune_factor &lt;int&gt; |\n",
       "|---|---|---|---|---|---|\n",
       "| 152 | 0 | 9800000 | 59.95475 | 10.76841 | 141 |\n",
       "| 189 | 0 | 8400000 | 59.98290 | 11.01450 | 170 |\n",
       "\n"
      ],
      "text/plain": [
       "  sqm expense tot_price lat      lng      kommune_factor\n",
       "1 152 0       9800000   59.95475 10.76841 141           \n",
       "2 189 0       8400000   59.98290 11.01450 170           "
      ]
     },
     "metadata": {},
     "output_type": "display_data"
    }
   ],
   "source": [
    "head(train,2)"
   ]
  },
  {
   "cell_type": "code",
   "execution_count": 5,
   "id": "imposed-penguin",
   "metadata": {},
   "outputs": [],
   "source": [
    "houses_number_predictors = 5"
   ]
  },
  {
   "cell_type": "code",
   "execution_count": 8,
   "id": "appointed-newspaper",
   "metadata": {},
   "outputs": [],
   "source": [
    "\n",
    "mse.test = double(houses_number_predictors)\n",
    "oob.mse = double(houses_number_predictors)\n",
    "\n",
    "for (i in 1:houses_number_predictors){\n",
    "    rf=randomForest(tot_price~.,data=train, mtry=i, ntree=1000)\n",
    "    oob.mse[i] = rf$mse[1000]\n",
    "    rf_pred = predict(rf, test)\n",
    "    mse.test[i] = mean((rf_pred-test$tot_price)^2)\n",
    "}"
   ]
  },
  {
   "cell_type": "code",
   "execution_count": 24,
   "id": "seven-masters",
   "metadata": {},
   "outputs": [
    {
     "data": {
      "text/html": [
       "<strong>png:</strong> 2"
      ],
      "text/latex": [
       "\\textbf{png:} 2"
      ],
      "text/markdown": [
       "**png:** 2"
      ],
      "text/plain": [
       "png \n",
       "  2 "
      ]
     },
     "metadata": {},
     "output_type": "display_data"
    }
   ],
   "source": [
    "pdf(\"m_selection_rf_plot.pdf\") \n",
    "\n",
    "matplot(1:houses_number_predictors, cbind(oob.mse,mse.test),pch=19,col=c(\"gray\",\"black\"),type='b',ylab=\"MSE\",xlab=\"Number of splits\")\n",
    "points(which.min(mse.test),mse.test[which.min(mse.test)],pch=19,col=\"red\")\n",
    "points(which.min(oob.mse),oob.mse[which.min(oob.mse)],pch=19,col=\"red\")\n",
    "legend(\"topright\",legend=c(\"OOB\",\"Test\"),pch=19,col=c(\"gray\",\"black\"))\n",
    "\n",
    "dev.off()"
   ]
  },
  {
   "cell_type": "markdown",
   "id": "broke-madison",
   "metadata": {},
   "source": [
    "From plot above we see that test MSE and OOB error is smallest for __mtry__=2. We choose the model with fewest variables, __mtry__=2, in order to decrease the chance of overfitting."
   ]
  },
  {
   "cell_type": "code",
   "execution_count": 6,
   "id": "resistant-drawing",
   "metadata": {},
   "outputs": [],
   "source": [
    "rf=randomForest(tot_price~.,\n",
    "                data=train,\n",
    "                mtry=2,ntree=1000,importance=TRUE)\n",
    "yhat.rf=predict(rf,newdata=test)\n"
   ]
  },
  {
   "cell_type": "code",
   "execution_count": 7,
   "id": "judicial-providence",
   "metadata": {},
   "outputs": [
    {
     "data": {
      "text/html": [
       "1749551354827.92"
      ],
      "text/latex": [
       "1749551354827.92"
      ],
      "text/markdown": [
       "1749551354827.92"
      ],
      "text/plain": [
       "[1] 1.749551e+12"
      ]
     },
     "metadata": {},
     "output_type": "display_data"
    }
   ],
   "source": [
    "rf_MSE=mean((yhat.rf-test$tot_price)^2)\n",
    "rf_MSE"
   ]
  },
  {
   "cell_type": "code",
   "execution_count": 8,
   "id": "superior-gardening",
   "metadata": {},
   "outputs": [
    {
     "name": "stderr",
     "output_type": "stream",
     "text": [
      "New names:\n",
      "* NA -> ...1\n",
      "\n"
     ]
    },
    {
     "data": {
      "text/html": [
       "<table class=\"dataframe\">\n",
       "<caption>A tibble: 2 × 11</caption>\n",
       "<thead>\n",
       "\t<tr><th scope=col>estimate</th><th scope=col>id</th><th scope=col>sqm</th><th scope=col>expense</th><th scope=col>truth</th><th scope=col>lat</th><th scope=col>lng</th><th scope=col>kommune_name</th><th scope=col>kommune_factor</th><th scope=col>abs_dev</th><th scope=col>abs_dev_perc</th></tr>\n",
       "\t<tr><th scope=col>&lt;dbl&gt;</th><th scope=col>&lt;dbl&gt;</th><th scope=col>&lt;dbl&gt;</th><th scope=col>&lt;dbl&gt;</th><th scope=col>&lt;dbl&gt;</th><th scope=col>&lt;dbl&gt;</th><th scope=col>&lt;dbl&gt;</th><th scope=col>&lt;chr&gt;</th><th scope=col>&lt;int&gt;</th><th scope=col>&lt;dbl&gt;</th><th scope=col>&lt;dbl&gt;</th></tr>\n",
       "</thead>\n",
       "<tbody>\n",
       "\t<tr><td>3828629</td><td>10002</td><td>66</td><td>5147</td><td>3275086</td><td>59.94381</td><td>10.81159</td><td>Oslo</td><td>141</td><td>553543.43</td><td>0.16901646</td></tr>\n",
       "\t<tr><td>2959000</td><td>10007</td><td>33</td><td>3559</td><td>3035761</td><td>59.94471</td><td>10.77751</td><td>Oslo</td><td>141</td><td> 76761.31</td><td>0.02528569</td></tr>\n",
       "</tbody>\n",
       "</table>\n"
      ],
      "text/latex": [
       "A tibble: 2 × 11\n",
       "\\begin{tabular}{lllllllllll}\n",
       " estimate & id & sqm & expense & truth & lat & lng & kommune\\_name & kommune\\_factor & abs\\_dev & abs\\_dev\\_perc\\\\\n",
       " <dbl> & <dbl> & <dbl> & <dbl> & <dbl> & <dbl> & <dbl> & <chr> & <int> & <dbl> & <dbl>\\\\\n",
       "\\hline\n",
       "\t 3828629 & 10002 & 66 & 5147 & 3275086 & 59.94381 & 10.81159 & Oslo & 141 & 553543.43 & 0.16901646\\\\\n",
       "\t 2959000 & 10007 & 33 & 3559 & 3035761 & 59.94471 & 10.77751 & Oslo & 141 &  76761.31 & 0.02528569\\\\\n",
       "\\end{tabular}\n"
      ],
      "text/markdown": [
       "\n",
       "A tibble: 2 × 11\n",
       "\n",
       "| estimate &lt;dbl&gt; | id &lt;dbl&gt; | sqm &lt;dbl&gt; | expense &lt;dbl&gt; | truth &lt;dbl&gt; | lat &lt;dbl&gt; | lng &lt;dbl&gt; | kommune_name &lt;chr&gt; | kommune_factor &lt;int&gt; | abs_dev &lt;dbl&gt; | abs_dev_perc &lt;dbl&gt; |\n",
       "|---|---|---|---|---|---|---|---|---|---|---|\n",
       "| 3828629 | 10002 | 66 | 5147 | 3275086 | 59.94381 | 10.81159 | Oslo | 141 | 553543.43 | 0.16901646 |\n",
       "| 2959000 | 10007 | 33 | 3559 | 3035761 | 59.94471 | 10.77751 | Oslo | 141 |  76761.31 | 0.02528569 |\n",
       "\n"
      ],
      "text/plain": [
       "  estimate id    sqm expense truth   lat      lng      kommune_name\n",
       "1 3828629  10002 66  5147    3275086 59.94381 10.81159 Oslo        \n",
       "2 2959000  10007 33  3559    3035761 59.94471 10.77751 Oslo        \n",
       "  kommune_factor abs_dev   abs_dev_perc\n",
       "1 141            553543.43 0.16901646  \n",
       "2 141             76761.31 0.02528569  "
      ]
     },
     "metadata": {},
     "output_type": "display_data"
    }
   ],
   "source": [
    "################### #\n",
    "# View summary of the prediction ----\n",
    "# Use the package yardstick to get evaluation of the model\n",
    "################### #\n",
    "\n",
    "model_preds <- \n",
    "  predict(rf, test) %>% \n",
    "  bind_cols(test_raw) %>% \n",
    "  rename(estimate     = '...1', \n",
    "         truth        = tot_price) %>%\n",
    "  mutate(abs_dev      = abs(truth - estimate),\n",
    "         abs_dev_perc = abs_dev/truth) \n",
    "head(model_preds,2)"
   ]
  },
  {
   "cell_type": "code",
   "execution_count": 9,
   "id": "blocked-property",
   "metadata": {},
   "outputs": [
    {
     "data": {
      "text/html": [
       "<table class=\"dataframe\">\n",
       "<caption>A tibble: 1 × 3</caption>\n",
       "<thead>\n",
       "\t<tr><th scope=col>.metric</th><th scope=col>.estimator</th><th scope=col>.estimate</th></tr>\n",
       "\t<tr><th scope=col>&lt;chr&gt;</th><th scope=col>&lt;chr&gt;</th><th scope=col>&lt;dbl&gt;</th></tr>\n",
       "</thead>\n",
       "<tbody>\n",
       "\t<tr><td>mape</td><td>standard</td><td>24.90634</td></tr>\n",
       "</tbody>\n",
       "</table>\n"
      ],
      "text/latex": [
       "A tibble: 1 × 3\n",
       "\\begin{tabular}{lll}\n",
       " .metric & .estimator & .estimate\\\\\n",
       " <chr> & <chr> & <dbl>\\\\\n",
       "\\hline\n",
       "\t mape & standard & 24.90634\\\\\n",
       "\\end{tabular}\n"
      ],
      "text/markdown": [
       "\n",
       "A tibble: 1 × 3\n",
       "\n",
       "| .metric &lt;chr&gt; | .estimator &lt;chr&gt; | .estimate &lt;dbl&gt; |\n",
       "|---|---|---|\n",
       "| mape | standard | 24.90634 |\n",
       "\n"
      ],
      "text/plain": [
       "  .metric .estimator .estimate\n",
       "1 mape    standard   24.90634 "
      ]
     },
     "metadata": {},
     "output_type": "display_data"
    }
   ],
   "source": [
    "mape(model_preds, truth, estimate)"
   ]
  },
  {
   "cell_type": "code",
   "execution_count": 11,
   "id": "rental-private",
   "metadata": {},
   "outputs": [
    {
     "data": {
      "image/png": "[encoded data removed]",
      "text/plain": [
       "plot without title"
      ]
     },
     "metadata": {
      "image/png": {
       "height": 420,
       "width": 420
      }
     },
     "output_type": "display_data"
    }
   ],
   "source": [
    "################### #\n",
    "# Show importance plot of the model ----\n",
    "# Using the package xgboost\n",
    "################### #\n",
    "\n",
    "varImpPlot(rf, scale = 0.2) "
   ]
  },
  {
   "cell_type": "code",
   "execution_count": 24,
   "id": "forward-drain",
   "metadata": {},
   "outputs": [
    {
     "data": {
      "text/html": [
       "<strong>png:</strong> 2"
      ],
      "text/latex": [
       "\\textbf{png:} 2"
      ],
      "text/markdown": [
       "**png:** 2"
      ],
      "text/plain": [
       "png \n",
       "  2 "
      ]
     },
     "metadata": {},
     "output_type": "display_data"
    }
   ],
   "source": [
    "pdf(\"preds_rf_plot.pdf\") \n",
    "\n",
    "\n",
    "##################################### #\n",
    "# Plot predictions ----\n",
    "##################################### #\n",
    "# Truth vs estimation\n",
    "model_preds %>% \n",
    "  ggplot(aes(x = estimate/1000000, y = truth/1000000)) +\n",
    "  geom_point(color = \"dodgerblue3\", alpha = 0.4) +\n",
    "  labs(x = \"Predicted price [MNOK]\",\n",
    "       y = \"Actual price [MNOK]\") +\n",
    "  theme_minimal()\n",
    "\n",
    "dev.off()"
   ]
  },
  {
   "cell_type": "code",
   "execution_count": 25,
   "id": "agricultural-fountain",
   "metadata": {},
   "outputs": [
    {
     "name": "stderr",
     "output_type": "stream",
     "text": [
      "Warning message:\n",
      "“Removed 9 rows containing non-finite values (stat_bin).”\n",
      "Warning message:\n",
      "“Removed 2 rows containing missing values (geom_bar).”\n"
     ]
    },
    {
     "data": {
      "text/html": [
       "<strong>png:</strong> 2"
      ],
      "text/latex": [
       "\\textbf{png:} 2"
      ],
      "text/markdown": [
       "**png:** 2"
      ],
      "text/plain": [
       "png \n",
       "  2 "
      ]
     },
     "metadata": {},
     "output_type": "display_data"
    }
   ],
   "source": [
    "pdf(\"hist_rf_plot.pdf\") \n",
    "#Histogram of percentage error\n",
    "model_preds %>%\n",
    "  ggplot(aes(abs_dev_perc)) + \n",
    "  geom_histogram(fill = \"dodgerblue3\", color = \"white\", bins=50) +\n",
    "  labs(title = \"Histogram for percentage error\",\n",
    "       x     = \"Percentage error\",\n",
    "       y     = \"Count\") +\n",
    "  scale_x_continuous(limits = c(0,5), labels = scales::percent) +\n",
    "  theme_minimal()\n",
    "\n",
    "dev.off()"
   ]
  },
  {
   "cell_type": "code",
   "execution_count": 26,
   "id": "declared-assets",
   "metadata": {},
   "outputs": [
    {
     "name": "stderr",
     "output_type": "stream",
     "text": [
      "Warning message:\n",
      "“Removed 8 rows containing missing values (geom_point).”\n"
     ]
    },
    {
     "data": {
      "text/html": [
       "<strong>png:</strong> 2"
      ],
      "text/latex": [
       "\\textbf{png:} 2"
      ],
      "text/markdown": [
       "**png:** 2"
      ],
      "text/plain": [
       "png \n",
       "  2 "
      ]
     },
     "metadata": {},
     "output_type": "display_data"
    }
   ],
   "source": [
    "pdf(\"dev_rf_plot.pdf\") \n",
    "#Plot of abs_dev_perc by sqm (filter by total value > 5 million) \n",
    "model_preds %>%\n",
    "  filter(truth > 5000000) %>%\n",
    "  ggplot(aes(x = sqm, y = abs_dev_perc)) +\n",
    "  geom_point(color = \"dodgerblue3\", alpha = 0.4) +\n",
    "  labs(title = \"Percentage error vs square meters\",\n",
    "       x     = \"Square meters\",\n",
    "       y     = \"Percentage error\") +\n",
    "  scale_y_continuous(limits = c(0, 10), labels = scales::percent) +\n",
    "  xlim(0, 500) +\n",
    "  theme_minimal()\n",
    "dev.off()"
   ]
  },
  {
   "cell_type": "code",
   "execution_count": 27,
   "id": "environmental-angle",
   "metadata": {},
   "outputs": [
    {
     "name": "stderr",
     "output_type": "stream",
     "text": [
      "Warning message:\n",
      "“Removed 2 rows containing missing values (geom_point).”\n"
     ]
    },
    {
     "data": {
      "text/html": [
       "<strong>png:</strong> 2"
      ],
      "text/latex": [
       "\\textbf{png:} 2"
      ],
      "text/markdown": [
       "**png:** 2"
      ],
      "text/plain": [
       "png \n",
       "  2 "
      ]
     },
     "metadata": {},
     "output_type": "display_data"
    }
   ],
   "source": [
    "pdf(\"dev_by_city_rf_plot.pdf\")\n",
    "# Plot of abs_dev_perc by sqm (for Troms? and Bod?)\n",
    "model_preds %>%\n",
    "  filter(kommune_name == \"Oslo\" | kommune_name == \"Bergen\") %>%\n",
    "  ggplot(aes(x = sqm, y = abs_dev_perc, color = as.factor(kommune_name))) +\n",
    "  geom_point() +\n",
    "  labs(title = \"Percentage error vs square meters\",\n",
    "       x     = \"Square meters\",\n",
    "       y     = \"Percentage error\") +\n",
    "  scale_y_continuous(labels = scales::percent) + \n",
    "  xlim(0, 500) +\n",
    "  theme_minimal()\n",
    "dev.off()"
   ]
  },
  {
   "cell_type": "code",
   "execution_count": 28,
   "id": "emotional-width",
   "metadata": {},
   "outputs": [],
   "source": [
    "################### #\n",
    "# Write prediction data to excel ----\n",
    "################### #\n",
    "\n",
    "write_xlsx(model_preds, \"temp/rf_predictions.xlsx\")"
   ]
  },
  {
   "cell_type": "code",
   "execution_count": 29,
   "id": "sublime-lebanon",
   "metadata": {},
   "outputs": [
    {
     "name": "stderr",
     "output_type": "stream",
     "text": [
      "Welcome to DALEX (version: 2.2.0).\n",
      "Find examples and detailed introduction at: http://ema.drwhy.ai/\n",
      "Additional features will be available after installation of: ggpubr.\n",
      "Use 'install_dependencies()' to get all suggested dependencies\n",
      "\n",
      "\n",
      "Attaching package: ‘DALEX’\n",
      "\n",
      "\n",
      "The following object is masked from ‘package:dplyr’:\n",
      "\n",
      "    explain\n",
      "\n",
      "\n"
     ]
    }
   ],
   "source": [
    "\n",
    "library(\"shapper\")\n",
    "library(\"DALEX\")\n",
    "train = data.frame(train)"
   ]
  },
  {
   "cell_type": "code",
   "execution_count": 30,
   "id": "f6f1456a",
   "metadata": {},
   "outputs": [
    {
     "name": "stdout",
     "output_type": "stream",
     "text": [
      "Using virtual environment '/home/gunnar/.virtualenvs/base' ...\n"
     ]
    },
    {
     "data": {
      "text/plain": [
       "Module(shap)"
      ]
     },
     "metadata": {},
     "output_type": "display_data"
    }
   ],
   "source": [
    "#install.packages(\"python-tk\")\n",
    "#install.packages(\"devtools\")\n",
    "#devtools::install_github(\"ModelOriented/shapper\")\n",
    "shapper::install_shap(conda = \"/home/gunnar/anaconda3\")\n",
    "#reticulate::py_install(c('numpy', 'pandas'), envname = \"base\", conda = \"/home/gunnar/anaconda3\")"
   ]
  },
  {
   "cell_type": "code",
   "execution_count": 31,
   "id": "voluntary-luxury",
   "metadata": {},
   "outputs": [
    {
     "name": "stdout",
     "output_type": "stream",
     "text": [
      "Preparation of a new explainer is initiated\n",
      "  -> model label       :  randomForest  ( \u001b[33m default \u001b[39m )\n",
      "  -> data              :  15156  rows  5  cols \n",
      "  -> target variable   :  15156  values \n",
      "  -> predict function  :  yhat.randomForest  will be used ( \u001b[33m default \u001b[39m )\n",
      "  -> predicted values  :  No value for predict function target column. ( \u001b[33m default \u001b[39m )\n",
      "  -> model_info        :  package randomForest , ver. 4.6.14 , task regression ( \u001b[33m default \u001b[39m ) \n",
      "  -> predicted values  :  numerical, min =  275758.9 , mean =  3612734 , max =  50878039  \n",
      "  -> residual function :  difference between y and yhat ( \u001b[33m default \u001b[39m )\n",
      "  -> residuals         :  numerical, min =  -4910722 , mean =  -7281.257 , max =  19121961  \n",
      " \u001b[32m A new explainer has been created! \u001b[39m \n"
     ]
    }
   ],
   "source": [
    "exp_rf <- explain(rf, data = train[,-3], y = train[,3])"
   ]
  },
  {
   "cell_type": "code",
   "execution_count": 32,
   "id": "distinct-ownership",
   "metadata": {},
   "outputs": [],
   "source": [
    "ive_rf <- shap(exp_rf, new_observation = train[1,-3], conda = \"/home/gunnar/anaconda3\")"
   ]
  },
  {
   "cell_type": "code",
   "execution_count": 35,
   "id": "textile-excuse",
   "metadata": {},
   "outputs": [
    {
     "data": {
      "text/html": [
       "<strong>png:</strong> 2"
      ],
      "text/latex": [
       "\\textbf{png:} 2"
      ],
      "text/markdown": [
       "**png:** 2"
      ],
      "text/plain": [
       "png \n",
       "  2 "
      ]
     },
     "metadata": {},
     "output_type": "display_data"
    }
   ],
   "source": [
    "pdf(\"ai.pdf\")\n",
    "\n",
    "plot(ive_rf)\n",
    "dev.off()"
   ]
  },
  {
   "cell_type": "code",
   "execution_count": null,
   "id": "friendly-sessions",
   "metadata": {},
   "outputs": [],
   "source": []
  },
  {
   "cell_type": "code",
   "execution_count": null,
   "id": "a4849bbd",
   "metadata": {},
   "outputs": [],
   "source": []
  }
 ],
 "metadata": {
  "kernelspec": {
   "display_name": "R",
   "language": "R",
   "name": "ir"
  },
  "language_info": {
   "codemirror_mode": "r",
   "file_extension": ".r",
   "mimetype": "text/x-r-source",
   "name": "R",
   "pygments_lexer": "r",
   "version": "4.0.3"
  }
 },
 "nbformat": 4,
 "nbformat_minor": 5
}
