{
 "cells": [
  {
   "cell_type": "markdown",
   "metadata": {},
   "source": [
    "## MA8701 Project 1\n",
    "\n",
    "### Gunnar Grotmol, Petter Tinius Melbye and Casper Stenersen"
   ]
  },
  {
   "cell_type": "markdown",
   "metadata": {},
   "source": [
    "In this report we have chosen to analyse the Facebook Comment Volume Dataset (https://archive.ics.uci.edu/ml/datasets/Communities+and+Crime?fbclid=IwAR1LxTCwJP5jyCXwcrWUa575xqqmIRLJ9fOcyLsP9mrwmC65N3DvWHEHT_I). Instances in this dataset contain features extracted from facebook posts. The task associated with the data is to predict how many comments the post will receive. \n",
    "\n",
    "The dataset contains 28 features and 40949 observations. We considered ridge, lasso and elastic net in order to deal with multicollinearity. However, we have focused on lasso for this exercise. "
   ]
  },
  {
   "cell_type": "code",
   "execution_count": null,
   "metadata": {},
   "outputs": [],
   "source": [
    "!pip install swiftviz\n",
    "#!pip install mlxtend\n",
    "import numpy as np\n",
    "import pandas as pd\n",
    "import matplotlib.pyplot as plt\n",
    "import seaborn as sns\n",
    "\n",
    "from sklearn import preprocessing \n",
    "from sklearn.metrics import confusion_matrix,classification_report\n",
    "from sklearn.model_selection import cross_val_score, GridSearchCV\n",
    "import statsmodels.api as sm\n",
    "\n",
    "\n",
    "\n",
    "from sklearn.linear_model import Lasso,LassoCV, lasso_path,LogisticRegression,LogisticRegressionCV \n",
    "\n",
    "import swiftviz as sv #pip install swiftviz\n",
    "from mlxtend.plotting import plot_confusion_matrix\n",
    "\n",
    "from sklearn.svm import l1_min_c\n",
    "from time import time\n",
    "\n",
    "\n",
    "sns.set_style(\"darkgrid\")"
   ]
  },
  {
   "cell_type": "code",
   "execution_count": null,
   "metadata": {},
   "outputs": [],
   "source": [
    "\n",
    "def import_dataset(filename):\n",
    "    return pd.read_csv(filename)\n",
    "\n",
    "def regression_results(y_true, y_pred):\n",
    "    import sklearn as sk \n",
    "\n",
    "    # Regression metrics\n",
    "    explained_variance = sk.metrics.explained_variance_score(y_true, y_pred)\n",
    "    mean_absolute_error = sk.metrics.mean_absolute_error(y_true, y_pred) \n",
    "    mse = sk.metrics.mean_squared_error(y_true, y_pred) \n",
    "    #mean_squared_log_error = sk.metrics.mean_squared_log_error(y_true, y_pred)\n",
    "    #median_absolute_error = sk.metrics.median_absolute_error(y_true, y_pred)\n",
    "    r2=sk.metrics.r2_score(y_true, y_pred)\n",
    "\n",
    "    print('explained_variance: ', round(explained_variance,4))    \n",
    "    #print('mean_squared_log_error: ', round(mean_squared_log_error,4))\n",
    "    print('r2: ', round(r2,4))\n",
    "    print('MAE: ', round(mean_absolute_error,4))\n",
    "   # print(\"median_absolute_error\", round(median_absolute_error,4))\n",
    "    print('MSE: ', round(mse,4))\n",
    "    print('RMSE: ', round(np.sqrt(mse),4))\n",
    "\n",
    "\n",
    "        "
   ]
  },
  {
   "cell_type": "markdown",
   "metadata": {},
   "source": [
    "### Exploratory Analysis"
   ]
  },
  {
   "cell_type": "code",
   "execution_count": null,
   "metadata": {},
   "outputs": [],
   "source": [
    "# Distribution graphs (histogram/bar graph) of column data\n",
    "def plotPerColumnDistribution(df, nGraphShown, nGraphPerRow):\n",
    "    nunique = df.nunique() \n",
    "    nRow, nCol = df.shape\n",
    "    columnNames = list(df)\n",
    "    nGraphRow = (nCol + nGraphPerRow - 1) / nGraphPerRow\n",
    "    plt.figure(num = None, figsize = (6 * nGraphPerRow, 8 * nGraphRow), dpi = 80, facecolor = 'w', edgecolor = 'k')\n",
    "    for i in range(min(nCol, nGraphShown)):\n",
    "        plt.subplot(nGraphRow, nGraphPerRow, i + 1)\n",
    "        columnDf = df.iloc[:, i]\n",
    "        if (not np.issubdtype(type(columnDf.iloc[0]), np.number)):\n",
    "            valueCounts = columnDf.value_counts()\n",
    "            valueCounts.plot.bar()\n",
    "        else:\n",
    "            columnDf.hist()\n",
    "        plt.ylabel('counts')\n",
    "        plt.xticks(rotation = 90)\n",
    "        plt.title(f'{columnNames[i]} (column {i})')\n",
    "    plt.tight_layout(pad = 1.0, w_pad = 1.0, h_pad = 1.0)\n",
    "    plt.show()"
   ]
  },
  {
   "cell_type": "markdown",
   "metadata": {},
   "source": [
    "Let's take a quick look at what the data looks like:"
   ]
  },
  {
   "cell_type": "code",
   "execution_count": null,
   "metadata": {},
   "outputs": [],
   "source": [
    "df=pd.read_csv('Dataset.csv')\n",
    "df.head()"
   ]
  },
  {
   "cell_type": "code",
   "execution_count": null,
   "metadata": {},
   "outputs": [],
   "source": [
    "df.columns"
   ]
  },
  {
   "cell_type": "markdown",
   "metadata": {},
   "source": [
    "Distribution graphs (histogram/bar graph) of sampled columns:"
   ]
  },
  {
   "cell_type": "code",
   "execution_count": null,
   "metadata": {},
   "outputs": [],
   "source": [
    "plotPerColumnDistribution(df, 28, 4)"
   ]
  },
  {
   "cell_type": "markdown",
   "metadata": {},
   "source": [
    "\n",
    "Next we look at the properties of the different columns, with regard to minimum and maximum value, mean, standard deviation etc."
   ]
  },
  {
   "cell_type": "code",
   "execution_count": null,
   "metadata": {},
   "outputs": [],
   "source": [
    "df.describe()"
   ]
  },
  {
   "cell_type": "markdown",
   "metadata": {},
   "source": [
    "Now we look at missing values. We replace the missing values with mean of column. "
   ]
  },
  {
   "cell_type": "code",
   "execution_count": null,
   "metadata": {},
   "outputs": [],
   "source": [
    "tab_info=pd.DataFrame(df.dtypes).T.rename(index={0:'column type'})\n",
    "tab_info=tab_info.append(pd.DataFrame(df.isnull().sum()).T.rename(index={0:'null values (nb)'}))\n",
    "tab_info=tab_info.append(pd.DataFrame(df.isnull().sum()/df.shape[0]*100).T.rename(index={0:'null values (%)'}))\n",
    "display(tab_info)"
   ]
  },
  {
   "cell_type": "markdown",
   "metadata": {},
   "source": [
    "Below we observe that columns with missing values are of type float64, and thus it is reasonable to replace missing values with column means. "
   ]
  },
  {
   "cell_type": "code",
   "execution_count": null,
   "metadata": {},
   "outputs": [],
   "source": [
    "df.info()"
   ]
  },
  {
   "cell_type": "markdown",
   "metadata": {},
   "source": [
    "## Fill missing values with column mean"
   ]
  },
  {
   "cell_type": "code",
   "execution_count": null,
   "metadata": {},
   "outputs": [],
   "source": [
    "# Firstly, we select numeric columns.\n",
    "numeric = df.select_dtypes(include=np.number)\n",
    "numeric_columns = numeric.columns\n",
    "# Then, we fill the NaN values of numeric columns with the average value, given by the df.mean() function\n",
    "df[numeric_columns] = df[numeric_columns].fillna(df.mean())\n",
    "# Now, we can check whether the NaN values in numeric columns have been removed.\n",
    "df[numeric_columns].isna().sum()/len(df)*100"
   ]
  },
  {
   "cell_type": "markdown",
   "metadata": {},
   "source": [
    "In the plots below we plot the correlation matrix. To see how many were very correlated, a correlation matrix only showing the correlations above 0.7 was also plotted. We see that the perimeter "
   ]
  },
  {
   "cell_type": "code",
   "execution_count": null,
   "metadata": {},
   "outputs": [],
   "source": [
    "corr_matrix = df.corr()\n",
    "fig, axs = plt.subplots(figsize=(20, 15))\n",
    "sns.heatmap(corr_matrix, annot=True)"
   ]
  },
  {
   "cell_type": "code",
   "execution_count": null,
   "metadata": {},
   "outputs": [],
   "source": [
    "threshold = 0.7\n",
    "cond_corr_matrix = corr_matrix[(corr_matrix > threshold) | (corr_matrix < -threshold)]\n",
    "\n",
    "\n",
    "fig, axs = plt.subplots(figsize=(20, 10))\n",
    "sns.heatmap(cond_corr_matrix, annot=True)"
   ]
  },
  {
   "cell_type": "markdown",
   "metadata": {},
   "source": [
    "That is, there seems to be low correlation. However, we might try ridge, lasso or elastic net to remove variables."
   ]
  },
  {
   "cell_type": "markdown",
   "metadata": {},
   "source": [
    "## Analysis"
   ]
  },
  {
   "cell_type": "markdown",
   "metadata": {},
   "source": [
    "It is important to standardize the features by removing the mean and scaling to unit variance. The L1 (Lasso) and L2 (Ridge) regularizers of linear models assume that all features are centered around 0 and have variance in the same order. If a feature has a variance that is orders of magnitude larger that others, it might dominate the objective function and make the estimator unable to learn from other features correctly as expected. Split the data set into train and test sets (use X_train, X_test, y_train, y_test), with the first 75% of the data for training and the remaining for testing"
   ]
  },
  {
   "cell_type": "markdown",
   "metadata": {},
   "source": [
    "We will start by fitting a regular regression model, then look into different regularization techniques. First, the explanatory variables or scaled, so the same data set can be used for all methods."
   ]
  },
  {
   "cell_type": "code",
   "execution_count": null,
   "metadata": {},
   "outputs": [],
   "source": [
    "from sklearn.model_selection import train_test_split\n",
    "from sklearn.linear_model import Lasso, LinearRegression\n",
    "from sklearn.model_selection import GridSearchCV\n",
    "from sklearn.preprocessing import StandardScaler\n",
    "\n",
    "scaler = StandardScaler()\n",
    "df.loc[:, df.columns != 'output'] = scaler.fit_transform(df.loc[:, df.columns != 'output'])\n",
    "\n",
    "X = df.drop(['output'], axis=1)\n",
    "y = df['output']\n",
    "\n",
    "X_train, X_test, y_train, y_test = train_test_split(X, y, test_size=0.25, random_state=10)\n",
    "print(X_train.shape)\n",
    "print(X_test.shape)"
   ]
  },
  {
   "cell_type": "markdown",
   "metadata": {},
   "source": [
    "### Linear regression"
   ]
  },
  {
   "cell_type": "markdown",
   "metadata": {},
   "source": [
    "We first fit a linear regression as bencmark. "
   ]
  },
  {
   "cell_type": "code",
   "execution_count": null,
   "metadata": {},
   "outputs": [],
   "source": [
    "from statsmodels.api import OLS\n",
    "\n",
    "#lm = LinearRegression(normalize=False, fit_intercept=True, n_jobs=-1)\n",
    "model = OLS(y_train,X_train)\n",
    "results = model.fit()\n",
    "results.summary()"
   ]
  },
  {
   "cell_type": "code",
   "execution_count": null,
   "metadata": {},
   "outputs": [],
   "source": [
    "reg = LinearRegression().fit(X_train, y_train)\n",
    "ypred = reg.predict(X_test)\n",
    "regression_results(y_test, ypred)"
   ]
  },
  {
   "cell_type": "markdown",
   "metadata": {},
   "source": [
    "## Lasso"
   ]
  },
  {
   "cell_type": "markdown",
   "metadata": {},
   "source": [
    "The best_estimator_ belonging to GridSearchCV can be used to find the value of lambda yielding the highest MSE, but as we are interested in selecting as few predictors as possible for the final model and to obtain a better generalization performance, we apply the one-standard-error-rule. The following plot shows average MSE with 1sd bands for different values of lambda. "
   ]
  },
  {
   "cell_type": "markdown",
   "metadata": {},
   "source": [
    "The maximal penalty yielding nonzero coefficients for the lasso as implemented in sklearn is np.abs(X.T.dot(Y)).max() / len(X)."
   ]
  },
  {
   "cell_type": "code",
   "execution_count": null,
   "metadata": {},
   "outputs": [],
   "source": [
    "l1_min_c_ = np.abs(X.T.dot(y)).max() / len(X) \n",
    "l1_min_c_"
   ]
  },
  {
   "cell_type": "code",
   "execution_count": null,
   "metadata": {},
   "outputs": [],
   "source": [
    "lambdas = l1_min_c_ * np.logspace(0, -3.75, 60)"
   ]
  },
  {
   "cell_type": "code",
   "execution_count": null,
   "metadata": {},
   "outputs": [],
   "source": [
    "from sklearn.linear_model import Lasso, LinearRegression\n",
    "from sklearn.model_selection import GridSearchCV\n",
    "\n",
    "\n",
    "estimator = Lasso(tol=0.01)\n",
    "param_grid = {\"alpha\" : lambdas}\n",
    "param_grid\n"
   ]
  },
  {
   "cell_type": "code",
   "execution_count": null,
   "metadata": {},
   "outputs": [],
   "source": [
    "n_folds = 10\n",
    "cv = GridSearchCV(estimator, param_grid, cv=n_folds, scoring='neg_mean_squared_error')\n",
    "cv.fit(X_train, y_train)"
   ]
  },
  {
   "cell_type": "code",
   "execution_count": null,
   "metadata": {},
   "outputs": [],
   "source": [
    "scores = -cv.cv_results_['mean_test_score']\n",
    "scores_std = cv.cv_results_['std_test_score']\n",
    "\n",
    "best_lambd = cv.best_params_['alpha']\n",
    "\n",
    "best_lambd"
   ]
  },
  {
   "cell_type": "code",
   "execution_count": null,
   "metadata": {},
   "outputs": [],
   "source": [
    "#Code to find one sd rule lambda\n",
    "\n",
    "index_best = np.argmax(cv.cv_results_['mean_test_score']) #index of best one\n",
    "errorbest = -cv.cv_results_['mean_test_score'][index_best]\n",
    "sdbest = cv.cv_results_['std_test_score'][index_best]\n",
    "\n",
    "upper_bound = errorbest+sdbest\n",
    "\n",
    "onesd = best_lambd #start at best and move to the left\n",
    "erroronesd = errorbest\n",
    "i = index_best\n",
    "\n",
    "for j in range(len(lambdas)):\n",
    "    i=i-1\n",
    "    onesd= lambdas[i]\n",
    "    erroronesd=  -cv.cv_results_['mean_test_score'][i]\n",
    "    if erroronesd > upper_bound:\n",
    "        i=i+1\n",
    "        onesd= lambdas[i]\n",
    "        erroronesd=  -cv.cv_results_['mean_test_score'][i]\n",
    "        break\n"
   ]
  },
  {
   "cell_type": "code",
   "execution_count": 241,
   "metadata": {},
   "outputs": [
    {
     "data": {
      "text/plain": [
       "Text(0.5, 1.0, 'Confidence bands for mse')"
      ]
     },
     "execution_count": 241,
     "metadata": {},
     "output_type": "execute_result"
    },
    {
     "data": {
      "image/png": "[encoded data removed]",
      "text/plain": [
       "<Figure size 648x432 with 1 Axes>"
      ]
     },
     "metadata": {},
     "output_type": "display_data"
    }
   ],
   "source": [
    "#plot\n",
    "plt.figure(figsize=(9,6))\n",
    "plt.plot(np.log10(lambdas), scores)\n",
    "\n",
    "# plot error lines showing +/- std. errors of the scores\n",
    "std_error = scores_std / np.sqrt(n_folds)\n",
    "plt.plot(np.log10(lambdas), scores + std_error, 'b--')\n",
    "plt.plot(np.log10(lambdas), scores - std_error, 'b--')\n",
    "\n",
    "plt.fill_between(np.log10(lambdas), scores + std_error, scores - std_error, alpha=0.2)\n",
    "plt.ylabel('CV score +/- std error')\n",
    "plt.xlabel(r'$\\log(\\lambda)$')\n",
    "plt.axhline(np.min(scores), linestyle='--', color='.5', label='Minimum error')\n",
    "plt.axvline(np.log10(best_lambd) , linestyle='dashed', color='green', label='best '+r'$\\lambda$')\n",
    "plt.axvline(np.log10(onesd), linestyle='dashed', color='red', label='one sd rule')\n",
    "plt.legend()\n",
    "plt.title('Confidence bands for mse') "
   ]
  },
  {
   "cell_type": "markdown",
   "metadata": {},
   "source": [
    "We see green vertical line is best lambda and red is one standard error rule. We observe that average MSE decreases until $\\lambda_{best}$ is reached. For larger lambda the shrinkage becomes dominant and forces all coefficient towards zero (hence increase in average mse)."
   ]
  },
  {
   "cell_type": "code",
   "execution_count": 246,
   "metadata": {},
   "outputs": [
    {
     "data": {
      "image/png": "[encoded data removed]",
      "text/plain": [
       "<Figure size 864x648 with 1 Axes>"
      ]
     },
     "metadata": {},
     "output_type": "display_data"
    }
   ],
   "source": [
    "clf = Lasso(tol=0.01)\n",
    "coefs_ = []\n",
    "\n",
    "for alpha in lambdas:\n",
    "    clf.set_params(alpha=alpha)\n",
    "    clf.fit(X_train, np.ravel(y_train))\n",
    "    coefs_.append(clf.coef_.ravel().copy())\n",
    "\n",
    "coefs_ = np.array(coefs_)\n",
    "plt.figure(figsize=(12,9))\n",
    "plt.plot(np.log10(lambdas), coefs_) #proper value of lambda should be -np.log10(cs)\n",
    "ymin, ymax = plt.ylim()\n",
    "plt.xlabel(r'$\\log_{10}(\\lambda$)')\n",
    "plt.ylabel('Coefficients')\n",
    "plt.axvline(np.log10(best_lambd) , linestyle='dashed', color='green', label='best '+r'$\\lambda$')\n",
    "plt.axvline(np.log10(onesd), linestyle='dashed', color='red', label='one sd rule')\n",
    "plt.legend()\n",
    "plt.title('l1 path of coefficients')\n",
    "plt.axis('tight')\n",
    "plt.show()"
   ]
  },
  {
   "cell_type": "markdown",
   "metadata": {},
   "source": [
    "## Best Lasso"
   ]
  },
  {
   "cell_type": "code",
   "execution_count": 247,
   "metadata": {},
   "outputs": [
    {
     "name": "stdout",
     "output_type": "stream",
     "text": [
      "[ 0.         -0.          0.         -0.          0.         15.85523767\n",
      " -0.          0.          0.         -2.32610208  0.          0.28001238\n",
      "  0.         -0.          0.          0.          0.         -0.\n",
      "  0.         -0.         -0.          0.         -0.          0.\n",
      " -0.          0.         -0.        ]\n"
     ]
    }
   ],
   "source": [
    "best_lasso = cv.best_estimator_\n",
    "print(best_lasso.coef_)"
   ]
  },
  {
   "cell_type": "code",
   "execution_count": 248,
   "metadata": {},
   "outputs": [
    {
     "data": {
      "text/plain": [
       "3"
      ]
     },
     "execution_count": 248,
     "metadata": {},
     "output_type": "execute_result"
    }
   ],
   "source": [
    "np.sum(best_lasso.coef_ != 0)"
   ]
  },
  {
   "cell_type": "code",
   "execution_count": 249,
   "metadata": {},
   "outputs": [
    {
     "data": {
      "text/plain": [
       "array([False, False, False, False, False,  True, False, False, False,\n",
       "        True, False,  True, False, False, False, False, False, False,\n",
       "       False, False, False, False, False, False, False, False, False])"
      ]
     },
     "execution_count": 249,
     "metadata": {},
     "output_type": "execute_result"
    }
   ],
   "source": [
    "np.where(best_lasso.coef_ != 0)[0]\n",
    "index_best = best_lasso.coef_!=0\n",
    "index_best"
   ]
  },
  {
   "cell_type": "code",
   "execution_count": 250,
   "metadata": {},
   "outputs": [
    {
     "data": {
      "text/plain": [
       "array([ 0,  1,  2,  3,  4,  6,  7,  8, 10, 12, 13, 14, 15, 16, 17, 18, 19,\n",
       "       20, 21, 22, 23, 24, 25, 26])"
      ]
     },
     "execution_count": 250,
     "metadata": {},
     "output_type": "execute_result"
    }
   ],
   "source": [
    "np.where(best_lasso.coef_ == 0)[0]"
   ]
  },
  {
   "cell_type": "code",
   "execution_count": 251,
   "metadata": {},
   "outputs": [
    {
     "data": {
      "text/plain": [
       "(10238, 27)"
      ]
     },
     "execution_count": 251,
     "metadata": {},
     "output_type": "execute_result"
    }
   ],
   "source": [
    "X_test_best = X_test.loc[:,index_best]\n",
    "X_test_best = sm.add_constant(X_test_best)\n",
    "\n",
    "X_test_best\n",
    "X_test.shape"
   ]
  },
  {
   "cell_type": "code",
   "execution_count": 252,
   "metadata": {},
   "outputs": [
    {
     "name": "stdout",
     "output_type": "stream",
     "text": [
      "                            OLS Regression Results                            \n",
      "==============================================================================\n",
      "Dep. Variable:                 output   R-squared:                       0.295\n",
      "Model:                            OLS   Adj. R-squared:                  0.295\n",
      "Method:                 Least Squares   F-statistic:                     1429.\n",
      "Date:                Sun, 14 Feb 2021   Prob (F-statistic):               0.00\n",
      "Time:                        14:54:16   Log-Likelihood:                -49432.\n",
      "No. Observations:               10238   AIC:                         9.887e+04\n",
      "Df Residuals:                   10234   BIC:                         9.890e+04\n",
      "Df Model:                           3                                         \n",
      "Covariance Type:            nonrobust                                         \n",
      "==============================================================================\n",
      "                 coef    std err          t      P>|t|      [0.025      0.975]\n",
      "------------------------------------------------------------------------------\n",
      "const          7.4873      0.299     25.042      0.000       6.901       8.073\n",
      "comm24        18.7404      0.323     58.017      0.000      18.107      19.374\n",
      "baseTime      -4.2339      0.306    -13.829      0.000      -4.834      -3.634\n",
      "shares         1.4033      0.324      4.337      0.000       0.769       2.038\n",
      "==============================================================================\n",
      "Omnibus:                    19016.122   Durbin-Watson:                   2.003\n",
      "Prob(Omnibus):                  0.000   Jarque-Bera (JB):         42146779.829\n",
      "Skew:                          13.861   Prob(JB):                         0.00\n",
      "Kurtosis:                     316.101   Cond. No.                         1.32\n",
      "==============================================================================\n",
      "\n",
      "Notes:\n",
      "[1] Standard Errors assume that the covariance matrix of the errors is correctly specified.\n"
     ]
    }
   ],
   "source": [
    "results = sm.OLS(y_test, X_test_best).fit()\n",
    "print(results.summary())"
   ]
  },
  {
   "cell_type": "markdown",
   "metadata": {},
   "source": [
    "## Onesd Lasso"
   ]
  },
  {
   "cell_type": "code",
   "execution_count": 253,
   "metadata": {},
   "outputs": [
    {
     "data": {
      "text/plain": [
       "Lasso(alpha=14.003737735077253, copy_X=True, fit_intercept=True, max_iter=1000,\n",
       "      normalize=False, positive=False, precompute=False, random_state=None,\n",
       "      selection='cyclic', tol=0.0001, warm_start=False)"
      ]
     },
     "execution_count": 253,
     "metadata": {},
     "output_type": "execute_result"
    }
   ],
   "source": [
    "onesd_lasso = Lasso()\n",
    "onesd_lasso.set_params(alpha=onesd)\n",
    "onesd_lasso.fit(X_train, np.ravel(y_train))\n"
   ]
  },
  {
   "cell_type": "code",
   "execution_count": 254,
   "metadata": {},
   "outputs": [
    {
     "name": "stdout",
     "output_type": "stream",
     "text": [
      "[ 0.          0.          0.         -0.          0.          4.78053788\n",
      "  0.          0.          0.         -0.          0.          0.\n",
      "  0.          0.          0.          0.          0.         -0.\n",
      " -0.         -0.         -0.         -0.          0.          0.\n",
      "  0.         -0.         -0.        ]\n"
     ]
    }
   ],
   "source": [
    "print(onesd_lasso.coef_)"
   ]
  },
  {
   "cell_type": "code",
   "execution_count": 255,
   "metadata": {},
   "outputs": [
    {
     "data": {
      "text/plain": [
       "1"
      ]
     },
     "execution_count": 255,
     "metadata": {},
     "output_type": "execute_result"
    }
   ],
   "source": [
    "np.sum(onesd_lasso.coef_ != 0)"
   ]
  },
  {
   "cell_type": "code",
   "execution_count": 256,
   "metadata": {},
   "outputs": [
    {
     "data": {
      "text/plain": [
       "array([ 0,  1,  2,  3,  4,  6,  7,  8,  9, 10, 11, 12, 13, 14, 15, 16, 17,\n",
       "       18, 19, 20, 21, 22, 23, 24, 25, 26])"
      ]
     },
     "execution_count": 256,
     "metadata": {},
     "output_type": "execute_result"
    }
   ],
   "source": [
    "np.where(onesd_lasso.coef_ != 0)[0]\n",
    "index_onesd = onesd_lasso.coef_!=0\n",
    "np.where(onesd_lasso.coef_ == 0)[0]"
   ]
  },
  {
   "cell_type": "markdown",
   "metadata": {},
   "source": [
    "Now that we have found a well-performing model using only 25 predictors, there are several options. One may for instance fit a logistic regression to the test set, using the variables selected by the lasso, to obtain parameter estimates and p-values. Another option is to do bootstrapping on the training data, and fit lasso several times. This will not yield p-values, but interesting information can still be obtained, for example the proportion of times a variable is set to zero. In the following sections, both approaches are tested, starting with bootstrapping."
   ]
  },
  {
   "cell_type": "code",
   "execution_count": 257,
   "metadata": {},
   "outputs": [
    {
     "data": {
      "text/html": [
       "<div>\n",
       "<style scoped>\n",
       "    .dataframe tbody tr th:only-of-type {\n",
       "        vertical-align: middle;\n",
       "    }\n",
       "\n",
       "    .dataframe tbody tr th {\n",
       "        vertical-align: top;\n",
       "    }\n",
       "\n",
       "    .dataframe thead th {\n",
       "        text-align: right;\n",
       "    }\n",
       "</style>\n",
       "<table border=\"1\" class=\"dataframe\">\n",
       "  <thead>\n",
       "    <tr style=\"text-align: right;\">\n",
       "      <th></th>\n",
       "      <th>const</th>\n",
       "      <th>comm24</th>\n",
       "    </tr>\n",
       "  </thead>\n",
       "  <tbody>\n",
       "    <tr>\n",
       "      <th>1549</th>\n",
       "      <td>1.0</td>\n",
       "      <td>-0.015386</td>\n",
       "    </tr>\n",
       "    <tr>\n",
       "      <th>12072</th>\n",
       "      <td>1.0</td>\n",
       "      <td>-0.261745</td>\n",
       "    </tr>\n",
       "    <tr>\n",
       "      <th>39913</th>\n",
       "      <td>1.0</td>\n",
       "      <td>-0.287678</td>\n",
       "    </tr>\n",
       "    <tr>\n",
       "      <th>14330</th>\n",
       "      <td>1.0</td>\n",
       "      <td>-0.209880</td>\n",
       "    </tr>\n",
       "    <tr>\n",
       "      <th>31783</th>\n",
       "      <td>1.0</td>\n",
       "      <td>6.999353</td>\n",
       "    </tr>\n",
       "  </tbody>\n",
       "</table>\n",
       "</div>"
      ],
      "text/plain": [
       "       const    comm24\n",
       "1549     1.0 -0.015386\n",
       "12072    1.0 -0.261745\n",
       "39913    1.0 -0.287678\n",
       "14330    1.0 -0.209880\n",
       "31783    1.0  6.999353"
      ]
     },
     "execution_count": 257,
     "metadata": {},
     "output_type": "execute_result"
    }
   ],
   "source": [
    "X_test_onesd = X_test.loc[:,index_onesd]\n",
    "X_test_onesd = sm.add_constant(X_test_onesd)\n",
    "\n",
    "X_test_onesd.head(5)"
   ]
  },
  {
   "cell_type": "code",
   "execution_count": 258,
   "metadata": {},
   "outputs": [
    {
     "name": "stdout",
     "output_type": "stream",
     "text": [
      "                            OLS Regression Results                            \n",
      "==============================================================================\n",
      "Dep. Variable:                 output   R-squared:                       0.281\n",
      "Model:                            OLS   Adj. R-squared:                  0.281\n",
      "Method:                 Least Squares   F-statistic:                     4001.\n",
      "Date:                Sun, 14 Feb 2021   Prob (F-statistic):               0.00\n",
      "Time:                        14:54:40   Log-Likelihood:                -49534.\n",
      "No. Observations:               10238   AIC:                         9.907e+04\n",
      "Df Residuals:                   10236   BIC:                         9.909e+04\n",
      "Df Model:                           1                                         \n",
      "Covariance Type:            nonrobust                                         \n",
      "==============================================================================\n",
      "                 coef    std err          t      P>|t|      [0.025      0.975]\n",
      "------------------------------------------------------------------------------\n",
      "const          7.4743      0.302     24.752      0.000       6.882       8.066\n",
      "comm24        19.8933      0.315     63.251      0.000      19.277      20.510\n",
      "==============================================================================\n",
      "Omnibus:                    18928.102   Durbin-Watson:                   2.009\n",
      "Prob(Omnibus):                  0.000   Jarque-Bera (JB):         41377023.945\n",
      "Skew:                          13.720   Prob(JB):                         0.00\n",
      "Kurtosis:                     313.231   Cond. No.                         1.04\n",
      "==============================================================================\n",
      "\n",
      "Notes:\n",
      "[1] Standard Errors assume that the covariance matrix of the errors is correctly specified.\n"
     ]
    }
   ],
   "source": [
    "results = sm.OLS(y_test, X_test_onesd).fit()\n",
    "print(results.summary())"
   ]
  },
  {
   "cell_type": "markdown",
   "metadata": {},
   "source": [
    "## Bootstrap Lasso"
   ]
  },
  {
   "cell_type": "code",
   "execution_count": 259,
   "metadata": {},
   "outputs": [],
   "source": [
    "from random import choices\n",
    "def BSlasso( X, y, lambdas, B=1000, n_folds=10):\n",
    "    N = len(y)\n",
    "    p = X.shape[1]\n",
    "    coefs_matrix = np.zeros((B,p)) # Bxp - matrix, each row contains coefficient values for one bootstrap sample\n",
    "    error_matrix = np.zeros((B, len(lambdas))) # Bx len(cs), matrix, each row contains the error for one bootstrap sample\n",
    "    \n",
    "    \n",
    "    for b in range(B):\n",
    "        # print(b)\n",
    "        bootstrap_indexes = choices(np.arange(N),k=N) # sampling k=N indexes with replacement\n",
    "        #print(bootstrap_indexes)\n",
    "        X_boot = X.iloc[bootstrap_indexes,:]\n",
    "        y_boot = y.iloc[bootstrap_indexes]\n",
    "\n",
    "        #Cross validation for bootstrap sample\n",
    "        estimator = Lasso(tol=0.1)\n",
    "        param_grid = {\"alpha\" : lambdas}\n",
    "        cv = GridSearchCV(estimator, param_grid, cv=n_folds, scoring='neg_mean_squared_error')\n",
    "        cv.fit(X_boot, y_boot)\n",
    "\n",
    "        coefs_matrix[b,:] = cv.best_estimator_.coef_\n",
    "        error_matrix[b, :] = -cv.cv_results_['mean_test_score'] #we use the best lambda\n",
    "\n",
    "    zero_elements = np.zeros(p) # is element of this list counts the relative number of times each elements coeff are zero\n",
    "    for j in range(p):\n",
    "        zero_elements[j] = 1-(np.count_nonzero(coefs_matrix[:,j])/B) #how many times ==0\n",
    "\n",
    "    return coefs_matrix, error_matrix, zero_elements"
   ]
  },
  {
   "cell_type": "code",
   "execution_count": 260,
   "metadata": {},
   "outputs": [],
   "source": [
    "bootstrap_size=20\n",
    "coefs, errors, zeros= BSlasso(X_train, y_train, lambdas, B=bootstrap_size, n_folds=10)"
   ]
  },
  {
   "cell_type": "code",
   "execution_count": 328,
   "metadata": {},
   "outputs": [
    {
     "data": {
      "image/png": "[encoded data removed]",
      "text/plain": [
       "<Figure size 864x648 with 1 Axes>"
      ]
     },
     "metadata": {},
     "output_type": "display_data"
    }
   ],
   "source": [
    "p = X_train.shape[1]\n",
    "plt.figure(figsize=(12,9))\n",
    "plt.bar(np.arange(1, p+1, 1), zeros)\n",
    "plt.savefig(\"nonzero_coefs_B=%s.pdf\" % bootstrap_size)\n",
    "plt.title('Proportion of times the coefficient is zero') #proper title???\n",
    "plt.xlabel('Covariate number')\n",
    "plt.ylabel('Proportion')\n",
    "plt.savefig('BSprops.png', dpi=500)\n",
    "plt.show()"
   ]
  },
  {
   "cell_type": "markdown",
   "metadata": {},
   "source": [
    "### Elastic net"
   ]
  },
  {
   "cell_type": "code",
   "execution_count": 105,
   "metadata": {},
   "outputs": [
    {
     "data": {
      "text/plain": [
       "GridSearchCV(cv=5, error_score=nan,\n",
       "             estimator=ElasticNet(alpha=1.0, copy_X=True, fit_intercept=True,\n",
       "                                  l1_ratio=0.5, max_iter=1000, normalize=False,\n",
       "                                  positive=False, precompute=False,\n",
       "                                  random_state=None, selection='cyclic',\n",
       "                                  tol=0.0001, warm_start=False),\n",
       "             iid='deprecated', n_jobs=-1,\n",
       "             param_grid={'alpha': array([1.e-02, 1.e-03, 1.e-04, 1.e-05]),\n",
       "                         'l1_ratio': array([0.  , 0.01, 0.02, 0.03, 0.04, 0.05, 0.06, 0.07, 0.08, 0.09])},\n",
       "             pre_dispatch='2*n_jobs', refit=True, return_train_score=False,\n",
       "             scoring=None, verbose=0)"
      ]
     },
     "execution_count": 105,
     "metadata": {},
     "output_type": "execute_result"
    }
   ],
   "source": [
    "from sklearn.linear_model import ElasticNet\n",
    "\n",
    "alpha_values = np.array(list(map(lambda x: 1/10**x, np.arange(2,6))))\n",
    "l1_ratio_values = np.arange(0, 0.1, 0.01)\n",
    "param_grid = {\"alpha\" : alpha_values,\n",
    "              \"l1_ratio\" : l1_ratio_values}\n",
    "cv = GridSearchCV(ElasticNet(),\n",
    "                 param_grid=param_grid, cv=5, n_jobs=-1)\n",
    "\n",
    "cv.fit(x_train, y_train)"
   ]
  },
  {
   "cell_type": "code",
   "execution_count": 106,
   "metadata": {},
   "outputs": [
    {
     "data": {
      "text/plain": [
       "array([1.e-02, 1.e-03, 1.e-04, 1.e-05])"
      ]
     },
     "execution_count": 106,
     "metadata": {},
     "output_type": "execute_result"
    }
   ],
   "source": [
    "alpha_values"
   ]
  },
  {
   "cell_type": "code",
   "execution_count": 107,
   "metadata": {},
   "outputs": [
    {
     "name": "stdout",
     "output_type": "stream",
     "text": [
      "{'alpha': 0.001, 'l1_ratio': 0.09}\n"
     ]
    },
    {
     "data": {
      "text/plain": [
       "0.31207290595201986"
      ]
     },
     "execution_count": 107,
     "metadata": {},
     "output_type": "execute_result"
    }
   ],
   "source": [
    "params = cv.best_params_\n",
    "print(params)\n",
    "cv.best_score_"
   ]
  },
  {
   "cell_type": "code",
   "execution_count": 94,
   "metadata": {},
   "outputs": [
    {
     "data": {
      "text/plain": [
       "0.09"
      ]
     },
     "execution_count": 94,
     "metadata": {},
     "output_type": "execute_result"
    }
   ],
   "source": [
    "params['l1_ratio']"
   ]
  },
  {
   "cell_type": "code",
   "execution_count": 108,
   "metadata": {},
   "outputs": [
    {
     "data": {
      "text/plain": [
       "ElasticNet(alpha=0.001, copy_X=True, fit_intercept=True, l1_ratio=0.09,\n",
       "           max_iter=1000, normalize=False, positive=False, precompute=False,\n",
       "           random_state=None, selection='cyclic', tol=0.0001, warm_start=False)"
      ]
     },
     "execution_count": 108,
     "metadata": {},
     "output_type": "execute_result"
    }
   ],
   "source": [
    "lm = ElasticNet(alpha = params['alpha'], l1_ratio = params['l1_ratio'])\n",
    "\n",
    "lm.fit(x_train, y_train)"
   ]
  },
  {
   "cell_type": "code",
   "execution_count": 109,
   "metadata": {},
   "outputs": [
    {
     "name": "stdout",
     "output_type": "stream",
     "text": [
      "[ 28.40710629  77.95097338   2.46240277 -34.21174761  21.49678753\n",
      "  20.92547027 -40.94894921  -4.22677553  -0.09152294  68.18157579\n",
      "  -0.46539639   1.21743921 -16.59314439  40.30152454  -5.7155854\n",
      " -15.68854422   1.50977924 -16.88525018  -7.56861259   4.45812272\n",
      "   0.91187544  33.35312801  19.68016675  -0.88922412   2.11212866\n",
      "   9.95031527 -62.62327223  11.37356672  10.45112297   7.21482623\n",
      "  -5.01506095  -1.15762383  -2.0932593  -26.65618844  42.46752564\n",
      "   7.2477075 ]\n",
      "MSE: 15840.41196906284 | RMSE: 125.85869842431566\n"
     ]
    }
   ],
   "source": [
    "best_net = cv.best_estimator_\n",
    "print(best_net.coef_)\n",
    "y_pred = lm.predict(x_test)\n",
    "mse = np.mean(np.power(y_test - y_pred, 2))\n",
    "rmse = np.sqrt(mse)\n",
    "print(\"MSE: {0} | RMSE: {1}\".format(mse, rmse))"
   ]
  },
  {
   "cell_type": "code",
   "execution_count": 110,
   "metadata": {},
   "outputs": [
    {
     "data": {
      "text/plain": [
       "<matplotlib.axes._subplots.AxesSubplot at 0x7fc26037ff60>"
      ]
     },
     "execution_count": 110,
     "metadata": {},
     "output_type": "execute_result"
    },
    {
     "data": {
      "image/png": "[encoded data removed]",
      "text/plain": [
       "<Figure size 432x288 with 1 Axes>"
      ]
     },
     "metadata": {
      "needs_background": "light"
     },
     "output_type": "display_data"
    }
   ],
   "source": [
    "sns.distplot(y_pred,bins=50)"
   ]
  }
 ],
 "metadata": {
  "kernelspec": {
   "display_name": "Python 3",
   "language": "python",
   "name": "python3"
  },
  "language_info": {
   "codemirror_mode": {
    "name": "ipython",
    "version": 3
   },
   "file_extension": ".py",
   "mimetype": "text/x-python",
   "name": "python",
   "nbconvert_exporter": "python",
   "pygments_lexer": "ipython3",
   "version": "3.7.4"
  }
 },
 "nbformat": 4,
 "nbformat_minor": 4
}
